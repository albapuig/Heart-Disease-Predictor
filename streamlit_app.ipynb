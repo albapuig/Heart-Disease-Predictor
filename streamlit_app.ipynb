{
  "cells": [
    {
      "cell_type": "code",
      "execution_count": 1,
      "metadata": {
        "colab": {
          "base_uri": "https://localhost:8080/"
        },
        "id": "jMZ5ISN-bVsG",
        "outputId": "b4f0db8f-4cf7-467f-9cbf-5bb77924a528"
      },
      "outputs": [
        {
          "output_type": "stream",
          "name": "stdout",
          "text": [
            "\u001b[2K     \u001b[90m━━━━━━━━━━━━━━━━━━━━━━━━━━━━━━━━━━━━━━━━\u001b[0m \u001b[32m8.4/8.4 MB\u001b[0m \u001b[31m14.6 MB/s\u001b[0m eta \u001b[36m0:00:00\u001b[0m\n",
            "\u001b[2K     \u001b[90m━━━━━━━━━━━━━━━━━━━━━━━━━━━━━━━━━━━━━━━━\u001b[0m \u001b[32m190.6/190.6 kB\u001b[0m \u001b[31m17.2 MB/s\u001b[0m eta \u001b[36m0:00:00\u001b[0m\n",
            "\u001b[2K     \u001b[90m━━━━━━━━━━━━━━━━━━━━━━━━━━━━━━━━━━━━━━━━\u001b[0m \u001b[32m4.8/4.8 MB\u001b[0m \u001b[31m46.1 MB/s\u001b[0m eta \u001b[36m0:00:00\u001b[0m\n",
            "\u001b[2K     \u001b[90m━━━━━━━━━━━━━━━━━━━━━━━━━━━━━━━━━━━━━━━━\u001b[0m \u001b[32m82.1/82.1 kB\u001b[0m \u001b[31m8.1 MB/s\u001b[0m eta \u001b[36m0:00:00\u001b[0m\n",
            "\u001b[2K     \u001b[90m━━━━━━━━━━━━━━━━━━━━━━━━━━━━━━━━━━━━━━━━\u001b[0m \u001b[32m62.7/62.7 kB\u001b[0m \u001b[31m5.5 MB/s\u001b[0m eta \u001b[36m0:00:00\u001b[0m\n",
            "\u001b[?25h"
          ]
        }
      ],
      "source": [
        "!pip install -q streamlit"
      ]
    },
    {
      "cell_type": "code",
      "execution_count": 2,
      "metadata": {
        "colab": {
          "base_uri": "https://localhost:8080/"
        },
        "id": "SBcpscQOgNuO",
        "outputId": "85cbf2da-7c84-431f-e6af-1ce3103a7de4"
      },
      "outputs": [
        {
          "output_type": "stream",
          "name": "stdout",
          "text": [
            "Collecting category-encoders\n",
            "  Downloading category_encoders-2.6.3-py2.py3-none-any.whl (81 kB)\n",
            "\u001b[2K     \u001b[90m━━━━━━━━━━━━━━━━━━━━━━━━━━━━━━━━━━━━━━━━\u001b[0m \u001b[32m81.9/81.9 kB\u001b[0m \u001b[31m1.7 MB/s\u001b[0m eta \u001b[36m0:00:00\u001b[0m\n",
            "\u001b[?25hRequirement already satisfied: numpy>=1.14.0 in /usr/local/lib/python3.10/dist-packages (from category-encoders) (1.23.5)\n",
            "Requirement already satisfied: scikit-learn>=0.20.0 in /usr/local/lib/python3.10/dist-packages (from category-encoders) (1.2.2)\n",
            "Requirement already satisfied: scipy>=1.0.0 in /usr/local/lib/python3.10/dist-packages (from category-encoders) (1.11.4)\n",
            "Requirement already satisfied: statsmodels>=0.9.0 in /usr/local/lib/python3.10/dist-packages (from category-encoders) (0.14.0)\n",
            "Requirement already satisfied: pandas>=1.0.5 in /usr/local/lib/python3.10/dist-packages (from category-encoders) (1.5.3)\n",
            "Requirement already satisfied: patsy>=0.5.1 in /usr/local/lib/python3.10/dist-packages (from category-encoders) (0.5.3)\n",
            "Requirement already satisfied: python-dateutil>=2.8.1 in /usr/local/lib/python3.10/dist-packages (from pandas>=1.0.5->category-encoders) (2.8.2)\n",
            "Requirement already satisfied: pytz>=2020.1 in /usr/local/lib/python3.10/dist-packages (from pandas>=1.0.5->category-encoders) (2023.3.post1)\n",
            "Requirement already satisfied: six in /usr/local/lib/python3.10/dist-packages (from patsy>=0.5.1->category-encoders) (1.16.0)\n",
            "Requirement already satisfied: joblib>=1.1.1 in /usr/local/lib/python3.10/dist-packages (from scikit-learn>=0.20.0->category-encoders) (1.3.2)\n",
            "Requirement already satisfied: threadpoolctl>=2.0.0 in /usr/local/lib/python3.10/dist-packages (from scikit-learn>=0.20.0->category-encoders) (3.2.0)\n",
            "Requirement already satisfied: packaging>=21.3 in /usr/local/lib/python3.10/dist-packages (from statsmodels>=0.9.0->category-encoders) (23.2)\n",
            "Installing collected packages: category-encoders\n",
            "Successfully installed category-encoders-2.6.3\n"
          ]
        }
      ],
      "source": [
        "! pip install category-encoders\n",
        "import category_encoders\n",
        "from category_encoders.target_encoder import TargetEncoder\n",
        "from sklearn.preprocessing import StandardScaler\n",
        "from sklearn.impute import KNNImputer\n",
        "from sklearn.pipeline import Pipeline"
      ]
    },
    {
      "cell_type": "code",
      "execution_count": 3,
      "metadata": {
        "colab": {
          "base_uri": "https://localhost:8080/"
        },
        "id": "idYLdqU0UIbk",
        "outputId": "b8a2675b-e2d1-45c2-9b69-21b154e31dd8"
      },
      "outputs": [
        {
          "output_type": "stream",
          "name": "stdout",
          "text": [
            "Writing heart_disease.py\n"
          ]
        }
      ],
      "source": [
        "%%writefile heart_disease.py\n",
        "import streamlit as st\n",
        "from joblib import load\n",
        "import numpy as np\n",
        "from PIL import Image\n",
        "import pandas as pd\n",
        "\n",
        "pipe = load('/content/pipe.joblib')\n",
        "model_1 = load('/content/model_1.joblib')\n",
        "model_2 = load('/content/model_2.joblib')\n",
        "\n",
        "\n",
        "st.set_page_config(page_title=\"Heart Disease Predictor\", layout=\"wide\")\n",
        "\n",
        "def main_page():\n",
        "    #st.title(\"# Heart Disease Predictor by Alba Puig\")\n",
        "    st.header('Heart Disease Predictor', divider='grey')\n",
        "    st.subheader('by Alba Puig')\n",
        "    st.markdown(\"\"\" Benvinguts a l'aplicació de predicció de malalties cardíaques. Aquesta eina ha estat dissenyada per a dos tipus d’usuaris:\n",
        "    pacients i professionals mèdics. Com a pacient, podràs introduir les teves dades de salut a través d’una interfície amigable i intuïtiva, i obtenir\n",
        "    una predicció basada en models científics avançats. Si ets un professional mèdic, tindràs accés a un model més detallat que et permetrà fer servir dades\n",
        "    més específiques per a les teves prediccions. Ambdós models han estat entrenats amb dades reals i validats amb rigor científic.\n",
        "\n",
        "    Per utilitzar la interfície, simplement segueix aquests passos:\n",
        "\n",
        "    1. Selecciona el teu tipus d’usuari: A la pàgina d’inici, selecciona si ets un pacient o un professional mèdic. Això et portarà a un formulari específic per al teu tipus d’usuari. \\n\n",
        "\n",
        "    2. Introdueix les teves dades de salut: Utilitza els controls d’entrada per introduir les teves dades de salut. Aquests controls inclouen sliders, botons i caixes de selecció que et permeten introduir les teves dades de manera intuïtiva. \\n\n",
        "\n",
        "    3. Fes clic al botó “Finish”: Un cop hagis introduït totes les teves dades, fes clic al botó “Finish”. Això processarà les teves dades a través del nostre pipeline i es realitzarà una predicció utilitzant el model pertinent. \\n\n",
        "\n",
        "    4. Consulta la teva predicció: Finalment, podràs veure la predicció basada en les dades que has introduït. Recorda que aquesta predicció és només una eina i no substitueix el consell mèdic professional. \\n\n",
        "\n",
        "    Esperem que aquesta eina t’ajudi a entendre millor la teva salut cardiovascular. Si tens alguna pregunta o necessites ajuda, no dubtis a posar-te en contacte amb nosaltres. \\n \"\"\")\n",
        "\n",
        "    image = Image.open('/content/img.png')\n",
        "    st.image(image)\n",
        "\n",
        "def Patient(pipe,model_1):\n",
        "    st.markdown(\"# Patient 👩‍💼👨‍💼\")\n",
        "    st.sidebar.markdown(\"\"\"1. Introdueix les teves dades de salut utilitzant els controls d’entrada. \\n \"\"\")\n",
        "    st.sidebar.markdown(\"\"\"2. Fes clic al botó “Finish” per processar les teves dades i obtenir una predicció. \\n\"\"\")\n",
        "    st.sidebar.markdown(\"\"\"3. Consulta la teva predicció. Recorda, aquesta eina no substitueix el consell mèdic professional.\"\"\")\n",
        "\n",
        "    age_ = st.slider('Age:', 0, 100)\n",
        "    dataset_ = st.selectbox('Dataset:', ('Cleveland', 'Hungary', 'Switzerland','VA Long Beach'))\n",
        "    sex_ = st.radio(\"Gender:\", ['Male', 'Female'])\n",
        "    cp_ = st.selectbox('Chest Pain:', ('Typical Angina', 'Asymptomatic', 'Non-Anginal ','Atypical Angina'))\n",
        "    trestbps_ = st.slider('Resting blood pressure in mmHg:', 70, 220)\n",
        "    chol_ = st.slider('Serum cholesterol in mg/dl:', 80, 700)\n",
        "    fbs_ = st.radio( \"Fasting blood sugar > 120 mg/dl:\", [\"True\", \"False\"])\n",
        "    restecg_ = float(\"NAN\")\n",
        "    thalch_ = st.slider('Maximum heart rate achieved:', 50, 220)\n",
        "    exang_ = st.radio( \"Exercise-induced angina:\", [\"True\", \"False\"])\n",
        "    oldpeak_ = float(\"NAN\")\n",
        "    slope_ = float(\"NAN\")\n",
        "    ca_ = float(\"NAN\")\n",
        "    thal_ = st.selectbox('Thalassemia (blood disorder):', ('Fixed defect ', 'Normal', 'Reversable defect'))\n",
        "\n",
        "    if st.button('Finish'):\n",
        "      st.header('Results:')\n",
        "      input_data_m1 = [age_, sex_, dataset_, cp_, trestbps_, chol_, fbs_, restecg_, thalch_, exang_, oldpeak_, slope_, ca_, thal_]\n",
        "      transformed_data_m1 = pipe.transform(pd.DataFrame([input_data_m1],columns=['age', 'sex', 'dataset', 'cp', 'trestbps', 'chol', 'fbs', 'restecg', 'thalch', 'exang', 'oldpeak', 'slope', 'ca', 'thal']))\n",
        "      probability_m1 = model_1.predict_proba(transformed_data_m1)\n",
        "      threshold = 0.31\n",
        "\n",
        "      #st.write(probability_m1)\n",
        "\n",
        "      # Display the probabilities\n",
        "      #st.write('Probabilities:')\n",
        "      #st.write(f'Probability of class 0: {probability_m1[:, 0][0]}')\n",
        "      #st.write(f'Probability of class 1: {probability_m1[:, 1][0]}')\n",
        "\n",
        "      if(probability_m1[:, 1][0] > threshold):\n",
        "        st.subheader(\"\"\"High probability of heart disease. It is recommended that you consult with a medical professional for an accurate diagnosis.\"\"\")\n",
        "      else:\n",
        "        st.subheader(\"\"\"No significant signs of heart disease are detected based on the provided data. However, remember that this is a supportive tool and does not replace a medical consultation.\"\"\")\n",
        "\n",
        "def Doctor(pipe,model_2):\n",
        "    st.markdown(\"# Doctor 👩‍⚕️👨‍⚕️\")\n",
        "    st.sidebar.markdown(\"\"\"1. Introdueix les teves dades de salut utilitzant els controls d’entrada. \\n \"\"\")\n",
        "    st.sidebar.markdown(\"\"\"2. Fes clic al botó “Finish” per processar les teves dades i obtenir una predicció. \\n\"\"\")\n",
        "    st.sidebar.markdown(\"\"\"3. Consulta la teva predicció.\"\"\")\n",
        "\n",
        "    age = st.slider('Age:', 0, 100)\n",
        "    dataset = st.selectbox('Dataset:', ('Cleveland', 'Hungary', 'Switzerland','VA Long Beach'))\n",
        "    sex = st.radio(\"Gender:\", ['Male', 'Female'])\n",
        "    cp = st.selectbox('Chest Pain:', ('Typical Angina', 'Asymptomatic', 'Non-Anginal ','Atypical Angina'))\n",
        "    trestbps = st.slider('Resting blood pressure in mmHg:', 70, 220)\n",
        "    chol = st.slider('Serum cholesterol in mg/dl:', 80, 700)\n",
        "    fbs = st.radio( \"Fasting blood sugar > 120 mg/dl:\", [\"True\", \"False\"])\n",
        "    restecg = st.selectbox('Resting electrocardiographic results:', ('Lv hypertrophy', 'Normal', 'St-t abnormality'))\n",
        "    thalch = st.slider('Maximum heart rate achieved:', 50, 220)\n",
        "    exang = st.radio( \"Exercise-induced angina:\", [\"True\", \"False\"])\n",
        "    oldpeak = st.slider('ST depression induced by exercise relative to rest:', -2.6, 6.2)\n",
        "    slope = st.selectbox('The slope of the peak exercise ST segment:', ('Downsloping ', 'Flat', 'Upsloping'))\n",
        "    ca = st.radio( \"Number of major vessels colored by fluoroscopy:\", [\"0\", \"1\", \"2\", \"3\"])\n",
        "    thal = st.selectbox('Thalassemia (blood disorder):', ('Fixed defect ', 'Normal', 'Reversable defect'))\n",
        "\n",
        "    if st.button('Finish'):\n",
        "       st.header('Results:')\n",
        "       input_data_m2 = [age, sex, dataset, cp, trestbps, chol, fbs, restecg, thalch, exang, oldpeak, slope, ca, thal]\n",
        "       transformed_data_m2 = pipe.transform(pd.DataFrame([input_data_m2],columns=['age', 'sex', 'dataset', 'cp', 'trestbps', 'chol', 'fbs', 'restecg', 'thalch', 'exang', 'oldpeak', 'slope', 'ca', 'thal']))\n",
        "       probability_m2 = model_2.predict(transformed_data_m2)\n",
        "\n",
        "       if(probability_m2[0] == 0):\n",
        "           st.subheader(\"\"\"The patient shows no significant signs of heart disease based on the provided data.\"\"\")\n",
        "       elif(probability_m2[0] == 1):\n",
        "           st.subheader(\"\"\"The patient shows signs indicative of Stage 1 heart disease. This is an early stage of the disease, and immediate medical consultation is advised for further diagnosis and treatment.\"\"\")\n",
        "       elif(probability_m2[0] == 2):\n",
        "           st.subheader(\"\"\"The patient shows signs indicative of Stage 2 heart disease. This is a more advanced stage of the disease, and immediate medical consultation is advised for further diagnosis and treatment.\"\"\")\n",
        "       elif(probability_m2[0] == 3):\n",
        "           st.subheader(\"\"\"The patient shows signs indicative of Stage 3 heart disease. This is a severe stage of the disease, and immediate medical consultation is advised for further diagnosis and treatment.\"\"\")\n",
        "       else:\n",
        "           st.subheader(\"\"\"The patient shows signs indicative of Stage 4 heart disease. This is the most advanced stage of the disease, and immediate medical consultation is advised for further diagnosis and treatment.\"\"\")\n",
        "\n",
        "\n",
        "page_names_to_funcs = {\n",
        "    \"Heart Disease Predictor\": main_page,\n",
        "    \"Patient\": lambda: Patient(pipe,model_1),\n",
        "    \"Doctor\": lambda: Doctor(pipe,model_2),\n",
        "}\n",
        "\n",
        "selected_page = st.sidebar.selectbox(\"Select user type\", page_names_to_funcs.keys())\n",
        "page_names_to_funcs[selected_page]()"
      ]
    },
    {
      "cell_type": "code",
      "execution_count": 4,
      "metadata": {
        "colab": {
          "base_uri": "https://localhost:8080/"
        },
        "id": "lEM6v8Nlv1rt",
        "outputId": "dbb3b771-8695-4994-bbfb-edf9ad4998a6"
      },
      "outputs": [
        {
          "output_type": "stream",
          "name": "stdout",
          "text": [
            "34.83.205.51\n"
          ]
        }
      ],
      "source": [
        "!wget -q -O - ipv4.icanhazip.com"
      ]
    },
    {
      "cell_type": "markdown",
      "source": [
        "Copiar aquest codi i enganxar-lo al URL donat a continuació."
      ],
      "metadata": {
        "id": "EcpD1lFDFZz7"
      }
    },
    {
      "cell_type": "code",
      "execution_count": 5,
      "metadata": {
        "colab": {
          "base_uri": "https://localhost:8080/"
        },
        "id": "EQYWwsjScwkI",
        "outputId": "4b3b3719-2e65-4ce9-e5c8-4638a8e4f43c"
      },
      "outputs": [
        {
          "output_type": "stream",
          "name": "stdout",
          "text": [
            "\n",
            "Collecting usage statistics. To deactivate, set browser.gatherUsageStats to False.\n",
            "\u001b[0m\n",
            "\u001b[0m\n",
            "\u001b[34m\u001b[1m  You can now view your Streamlit app in your browser.\u001b[0m\n",
            "\u001b[0m\n",
            "\u001b[34m  Network URL: \u001b[0m\u001b[1mhttp://172.28.0.12:8501\u001b[0m\n",
            "\u001b[34m  External URL: \u001b[0m\u001b[1mhttp://34.83.205.51:8501\u001b[0m\n",
            "\u001b[0m\n",
            "\u001b[K\u001b[?25hnpx: installed 22 in 10.819s\n",
            "your url is: https://odd-shirts-drum.loca.lt\n",
            "\u001b[34m  Stopping...\u001b[0m\n",
            "^C\n"
          ]
        }
      ],
      "source": [
        "!streamlit run heart_disease.py & npx localtunnel --port 8501"
      ]
    }
  ],
  "metadata": {
    "colab": {
      "provenance": []
    },
    "kernelspec": {
      "display_name": "Python 3",
      "name": "python3"
    },
    "language_info": {
      "name": "python"
    }
  },
  "nbformat": 4,
  "nbformat_minor": 0
}